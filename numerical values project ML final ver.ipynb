{
 "cells": [
  {
   "cell_type": "code",
   "execution_count": 1,
   "id": "6d3c6a0e",
   "metadata": {},
   "outputs": [],
   "source": [
    "import numpy as np\n",
    "import pandas as pd\n",
    "import matplotlib.pyplot as plt\n",
    "import seaborn as sns\n",
    "import mpl_toolkits\n",
    "%matplotlib inline\n"
   ]
  },
  {
   "cell_type": "code",
   "execution_count": 2,
   "id": "52f26909",
   "metadata": {},
   "outputs": [],
   "source": [
    "\n",
    "df_train = pd.read_csv('train.csv')"
   ]
  },
  {
   "cell_type": "code",
   "execution_count": 3,
   "id": "af64010a",
   "metadata": {},
   "outputs": [
    {
     "data": {
      "text/plain": [
       "7829"
      ]
     },
     "execution_count": 3,
     "metadata": {},
     "output_type": "execute_result"
    }
   ],
   "source": [
    "df_train.isnull().sum().sum()"
   ]
  },
  {
   "cell_type": "code",
   "execution_count": 4,
   "id": "adfd9351",
   "metadata": {
    "scrolled": true
   },
   "outputs": [
    {
     "name": "stdout",
     "output_type": "stream",
     "text": [
      "Missing values in train dataset before handling:\n",
      "Id                 0\n",
      "MSSubClass         0\n",
      "MSZoning           0\n",
      "LotFrontage      259\n",
      "LotArea            0\n",
      "                ... \n",
      "MoSold             0\n",
      "YrSold             0\n",
      "SaleType           0\n",
      "SaleCondition      0\n",
      "SalePrice          0\n",
      "Length: 81, dtype: int64\n",
      "\n",
      "Missing values in train dataset after handling:\n",
      "Id               0\n",
      "MSSubClass       0\n",
      "MSZoning         0\n",
      "LotFrontage      0\n",
      "LotArea          0\n",
      "                ..\n",
      "MoSold           0\n",
      "YrSold           0\n",
      "SaleType         0\n",
      "SaleCondition    0\n",
      "SalePrice        0\n",
      "Length: 81, dtype: int64\n"
     ]
    }
   ],
   "source": [
    "\n",
    "print(\"Missing values in train dataset before handling:\")\n",
    "print(df_train.isnull().sum())\n",
    "\n",
    "\n",
    "numerical_features = df_train.select_dtypes(include=['float64', 'int64']).columns\n",
    "df_train[numerical_features] = df_train[numerical_features].fillna(df_train[numerical_features].mean())\n",
    "\n",
    "\n",
    "categorical_features = df_train.select_dtypes(include=['object']).columns\n",
    "df_train[categorical_features] = df_train[categorical_features].fillna(df_train[categorical_features].mode().iloc[0])\n",
    "\n",
    "print(\"\\nMissing values in train dataset after handling:\")\n",
    "print(df_train.isnull().sum())"
   ]
  },
  {
   "cell_type": "code",
   "execution_count": 5,
   "id": "d2efd835",
   "metadata": {
    "scrolled": true
   },
   "outputs": [
    {
     "name": "stdout",
     "output_type": "stream",
     "text": [
      "Dataset before handling outliers:\n",
      "   Id  MSSubClass MSZoning  LotFrontage  LotArea Street Alley LotShape  \\\n",
      "0   1          60       RL         65.0     8450   Pave  Grvl      Reg   \n",
      "1   2          20       RL         80.0     9600   Pave  Grvl      Reg   \n",
      "2   3          60       RL         68.0    11250   Pave  Grvl      IR1   \n",
      "3   4          70       RL         60.0     9550   Pave  Grvl      IR1   \n",
      "4   5          60       RL         84.0    14260   Pave  Grvl      IR1   \n",
      "\n",
      "  LandContour Utilities  ... PoolArea PoolQC  Fence MiscFeature MiscVal  \\\n",
      "0         Lvl    AllPub  ...        0     Gd  MnPrv        Shed       0   \n",
      "1         Lvl    AllPub  ...        0     Gd  MnPrv        Shed       0   \n",
      "2         Lvl    AllPub  ...        0     Gd  MnPrv        Shed       0   \n",
      "3         Lvl    AllPub  ...        0     Gd  MnPrv        Shed       0   \n",
      "4         Lvl    AllPub  ...        0     Gd  MnPrv        Shed       0   \n",
      "\n",
      "  MoSold YrSold  SaleType  SaleCondition  SalePrice  \n",
      "0      2   2008        WD         Normal     208500  \n",
      "1      5   2007        WD         Normal     181500  \n",
      "2      9   2008        WD         Normal     223500  \n",
      "3      2   2006        WD        Abnorml     140000  \n",
      "4     12   2008        WD         Normal     250000  \n",
      "\n",
      "[5 rows x 81 columns]\n",
      "\n",
      "Dataset after handling outliers:\n",
      "   Id  MSSubClass MSZoning  LotFrontage  LotArea Street Alley LotShape  \\\n",
      "0   1        60.0       RL         65.0   8450.0   Pave  Grvl      Reg   \n",
      "1   2        20.0       RL         80.0   9600.0   Pave  Grvl      Reg   \n",
      "2   3        60.0       RL         68.0  11250.0   Pave  Grvl      IR1   \n",
      "3   4        70.0       RL         60.0   9550.0   Pave  Grvl      IR1   \n",
      "4   5        60.0       RL         84.0  14260.0   Pave  Grvl      IR1   \n",
      "\n",
      "  LandContour Utilities  ... PoolArea PoolQC  Fence MiscFeature MiscVal  \\\n",
      "0         Lvl    AllPub  ...      0.0     Gd  MnPrv        Shed     0.0   \n",
      "1         Lvl    AllPub  ...      0.0     Gd  MnPrv        Shed     0.0   \n",
      "2         Lvl    AllPub  ...      0.0     Gd  MnPrv        Shed     0.0   \n",
      "3         Lvl    AllPub  ...      0.0     Gd  MnPrv        Shed     0.0   \n",
      "4         Lvl    AllPub  ...      0.0     Gd  MnPrv        Shed     0.0   \n",
      "\n",
      "  MoSold YrSold  SaleType  SaleCondition  SalePrice  \n",
      "0      2   2008        WD         Normal   208500.0  \n",
      "1      5   2007        WD         Normal   181500.0  \n",
      "2      9   2008        WD         Normal   223500.0  \n",
      "3      2   2006        WD        Abnorml   140000.0  \n",
      "4     12   2008        WD         Normal   250000.0  \n",
      "\n",
      "[5 rows x 81 columns]\n"
     ]
    }
   ],
   "source": [
    "\n",
    "print(\"Dataset before handling outliers:\")\n",
    "print(df_train.head())\n",
    "\n",
    "\n",
    "numerical_columns = df_train.select_dtypes(include=['float64', 'int64']).columns\n",
    "\n",
    "iqr_multiplier = 1.5\n",
    "\n",
    "\n",
    "for col in numerical_columns:\n",
    "    \n",
    "    q1 = df_train[col].quantile(0.25)\n",
    "    q3 = df_train[col].quantile(0.75)\n",
    "\n",
    "    iqr = q3 - q1\n",
    "\n",
    "   \n",
    "    lower_bound = q1 - iqr_multiplier * iqr\n",
    "    upper_bound = q3 + iqr_multiplier * iqr\n",
    "\n",
    "    \n",
    "    df_train[col] = df_train[col].apply(lambda x: lower_bound if x < lower_bound else (upper_bound if x > upper_bound else x))\n",
    "\n",
    "\n",
    "print(\"\\nDataset after handling outliers:\")\n",
    "print(df_train.head())\n"
   ]
  },
  {
   "cell_type": "code",
   "execution_count": 6,
   "id": "04b382a2",
   "metadata": {
    "scrolled": true
   },
   "outputs": [
    {
     "name": "stdout",
     "output_type": "stream",
     "text": [
      "Dataset before encoding:\n",
      "   Id  MSSubClass MSZoning  LotFrontage  LotArea Street Alley LotShape  \\\n",
      "0   1        60.0       RL         65.0   8450.0   Pave  Grvl      Reg   \n",
      "1   2        20.0       RL         80.0   9600.0   Pave  Grvl      Reg   \n",
      "2   3        60.0       RL         68.0  11250.0   Pave  Grvl      IR1   \n",
      "3   4        70.0       RL         60.0   9550.0   Pave  Grvl      IR1   \n",
      "4   5        60.0       RL         84.0  14260.0   Pave  Grvl      IR1   \n",
      "\n",
      "  LandContour Utilities  ... PoolArea PoolQC  Fence MiscFeature MiscVal  \\\n",
      "0         Lvl    AllPub  ...      0.0     Gd  MnPrv        Shed     0.0   \n",
      "1         Lvl    AllPub  ...      0.0     Gd  MnPrv        Shed     0.0   \n",
      "2         Lvl    AllPub  ...      0.0     Gd  MnPrv        Shed     0.0   \n",
      "3         Lvl    AllPub  ...      0.0     Gd  MnPrv        Shed     0.0   \n",
      "4         Lvl    AllPub  ...      0.0     Gd  MnPrv        Shed     0.0   \n",
      "\n",
      "  MoSold YrSold  SaleType  SaleCondition  SalePrice  \n",
      "0      2   2008        WD         Normal   208500.0  \n",
      "1      5   2007        WD         Normal   181500.0  \n",
      "2      9   2008        WD         Normal   223500.0  \n",
      "3      2   2006        WD        Abnorml   140000.0  \n",
      "4     12   2008        WD         Normal   250000.0  \n",
      "\n",
      "[5 rows x 81 columns]\n",
      "\n",
      "Dataset after encoding:\n",
      "   Id  MSSubClass  LotFrontage  LotArea  OverallQual  OverallCond  YearBuilt  \\\n",
      "0   1        60.0         65.0   8450.0          7.0          5.0     2003.0   \n",
      "1   2        20.0         80.0   9600.0          6.0          7.5     1976.0   \n",
      "2   3        60.0         68.0  11250.0          7.0          5.0     2001.0   \n",
      "3   4        70.0         60.0   9550.0          7.0          5.0     1915.0   \n",
      "4   5        60.0         84.0  14260.0          8.0          5.0     2000.0   \n",
      "\n",
      "   YearRemodAdd  MasVnrArea  BsmtFinSF1  ...  SaleType_ConLI  SaleType_ConLw  \\\n",
      "0          2003       196.0       706.0  ...           False           False   \n",
      "1          1976         0.0       978.0  ...           False           False   \n",
      "2          2002       162.0       486.0  ...           False           False   \n",
      "3          1970         0.0       216.0  ...           False           False   \n",
      "4          2000       350.0       655.0  ...           False           False   \n",
      "\n",
      "   SaleType_New  SaleType_Oth  SaleType_WD  SaleCondition_AdjLand  \\\n",
      "0         False         False         True                  False   \n",
      "1         False         False         True                  False   \n",
      "2         False         False         True                  False   \n",
      "3         False         False         True                  False   \n",
      "4         False         False         True                  False   \n",
      "\n",
      "   SaleCondition_Alloca  SaleCondition_Family  SaleCondition_Normal  \\\n",
      "0                 False                 False                  True   \n",
      "1                 False                 False                  True   \n",
      "2                 False                 False                  True   \n",
      "3                 False                 False                 False   \n",
      "4                 False                 False                  True   \n",
      "\n",
      "   SaleCondition_Partial  \n",
      "0                  False  \n",
      "1                  False  \n",
      "2                  False  \n",
      "3                  False  \n",
      "4                  False  \n",
      "\n",
      "[5 rows x 246 columns]\n"
     ]
    }
   ],
   "source": [
    "from sklearn.preprocessing import LabelEncoder\n",
    "\n",
    "def one_hot_encode(df, categorical_columns):\n",
    "    df = pd.get_dummies(df, columns=categorical_columns, drop_first=True)\n",
    "    return df\n",
    "\n",
    "print(\"Dataset before encoding:\")\n",
    "print(df_train.head())\n",
    "\n",
    "categorical_columns = df_train.select_dtypes(include=['object']).columns\n",
    "\n",
    "df_train = one_hot_encode(df_train, categorical_columns)\n",
    "\n",
    "print(\"\\nDataset after encoding:\")\n",
    "print(df_train.head())"
   ]
  },
  {
   "cell_type": "code",
   "execution_count": 7,
   "id": "f54e1fe0",
   "metadata": {},
   "outputs": [],
   "source": [
    "\n",
    "from sklearn.preprocessing import LabelEncoder\n",
    "\n",
    "def drop_low_correlation_columns(df_train, target_column, threshold=0.2):\n",
    "    \n",
    "    correlation = df_train.corr()[target_column].abs()\n",
    "\n",
    "    low_correlation_columns = correlation[correlation < threshold].index\n",
    "\n",
    "    df_train.drop(low_correlation_columns, axis=1, inplace=True)\n",
    "    \n",
    "    return df_train\n",
    "\n",
    "df_train = drop_low_correlation_columns(df_train,\"SalePrice\")"
   ]
  },
  {
   "cell_type": "code",
   "execution_count": 8,
   "id": "79a81b95",
   "metadata": {
    "scrolled": true
   },
   "outputs": [],
   "source": [
    "#standarzation\n",
    "from sklearn.preprocessing import StandardScaler\n",
    "X = df_train.drop('SalePrice', axis=1)\n",
    "y = df_train['SalePrice']\n",
    "\n",
    "\n",
    "# Feature scaling\n",
    "scaler = StandardScaler()\n",
    "X = scaler.fit_transform(X)\n",
    "\n"
   ]
  },
  {
   "cell_type": "code",
   "execution_count": 9,
   "id": "c71b18b7",
   "metadata": {
    "scrolled": true
   },
   "outputs": [
    {
     "name": "stdout",
     "output_type": "stream",
     "text": [
      "<class 'pandas.core.frame.DataFrame'>\n",
      "RangeIndex: 1460 entries, 0 to 1459\n",
      "Data columns (total 70 columns):\n",
      " #   Column                 Non-Null Count  Dtype  \n",
      "---  ------                 --------------  -----  \n",
      " 0   LotFrontage            1460 non-null   float64\n",
      " 1   LotArea                1460 non-null   float64\n",
      " 2   OverallQual            1460 non-null   float64\n",
      " 3   YearBuilt              1460 non-null   float64\n",
      " 4   YearRemodAdd           1460 non-null   int64  \n",
      " 5   MasVnrArea             1460 non-null   float64\n",
      " 6   BsmtFinSF1             1460 non-null   float64\n",
      " 7   BsmtFinSF2             1460 non-null   float64\n",
      " 8   BsmtUnfSF              1460 non-null   float64\n",
      " 9   TotalBsmtSF            1460 non-null   float64\n",
      " 10  1stFlrSF               1460 non-null   float64\n",
      " 11  2ndFlrSF               1460 non-null   float64\n",
      " 12  LowQualFinSF           1460 non-null   float64\n",
      " 13  GrLivArea              1460 non-null   float64\n",
      " 14  BsmtFullBath           1460 non-null   float64\n",
      " 15  BsmtHalfBath           1460 non-null   float64\n",
      " 16  FullBath               1460 non-null   int64  \n",
      " 17  HalfBath               1460 non-null   int64  \n",
      " 18  KitchenAbvGr           1460 non-null   float64\n",
      " 19  TotRmsAbvGrd           1460 non-null   float64\n",
      " 20  Fireplaces             1460 non-null   float64\n",
      " 21  GarageYrBlt            1460 non-null   float64\n",
      " 22  GarageCars             1460 non-null   float64\n",
      " 23  GarageArea             1460 non-null   float64\n",
      " 24  WoodDeckSF             1460 non-null   float64\n",
      " 25  OpenPorchSF            1460 non-null   float64\n",
      " 26  EnclosedPorch          1460 non-null   float64\n",
      " 27  3SsnPorch              1460 non-null   float64\n",
      " 28  ScreenPorch            1460 non-null   float64\n",
      " 29  PoolArea               1460 non-null   float64\n",
      " 30  MiscVal                1460 non-null   float64\n",
      " 31  SalePrice              1460 non-null   float64\n",
      " 32  MSZoning_RL            1460 non-null   bool   \n",
      " 33  MSZoning_RM            1460 non-null   bool   \n",
      " 34  LotShape_Reg           1460 non-null   bool   \n",
      " 35  Neighborhood_NAmes     1460 non-null   bool   \n",
      " 36  Neighborhood_NoRidge   1460 non-null   bool   \n",
      " 37  Neighborhood_NridgHt   1460 non-null   bool   \n",
      " 38  Neighborhood_OldTown   1460 non-null   bool   \n",
      " 39  HouseStyle_2Story      1460 non-null   bool   \n",
      " 40  RoofStyle_Gable        1460 non-null   bool   \n",
      " 41  RoofStyle_Hip          1460 non-null   bool   \n",
      " 42  Exterior1st_VinylSd    1460 non-null   bool   \n",
      " 43  Exterior2nd_VinylSd    1460 non-null   bool   \n",
      " 44  MasVnrType_BrkFace     1460 non-null   bool   \n",
      " 45  MasVnrType_Stone       1460 non-null   bool   \n",
      " 46  ExterQual_Gd           1460 non-null   bool   \n",
      " 47  ExterQual_TA           1460 non-null   bool   \n",
      " 48  Foundation_CBlock      1460 non-null   bool   \n",
      " 49  Foundation_PConc       1460 non-null   bool   \n",
      " 50  BsmtQual_Gd            1460 non-null   bool   \n",
      " 51  BsmtQual_TA            1460 non-null   bool   \n",
      " 52  BsmtExposure_Gd        1460 non-null   bool   \n",
      " 53  BsmtExposure_No        1460 non-null   bool   \n",
      " 54  BsmtFinType1_GLQ       1460 non-null   bool   \n",
      " 55  HeatingQC_TA           1460 non-null   bool   \n",
      " 56  CentralAir_Y           1460 non-null   bool   \n",
      " 57  Electrical_SBrkr       1460 non-null   bool   \n",
      " 58  KitchenQual_Gd         1460 non-null   bool   \n",
      " 59  KitchenQual_TA         1460 non-null   bool   \n",
      " 60  FireplaceQu_Gd         1460 non-null   bool   \n",
      " 61  GarageType_Attchd      1460 non-null   bool   \n",
      " 62  GarageType_BuiltIn     1460 non-null   bool   \n",
      " 63  GarageType_Detchd      1460 non-null   bool   \n",
      " 64  GarageFinish_RFn       1460 non-null   bool   \n",
      " 65  GarageFinish_Unf       1460 non-null   bool   \n",
      " 66  PavedDrive_Y           1460 non-null   bool   \n",
      " 67  SaleType_New           1460 non-null   bool   \n",
      " 68  SaleType_WD            1460 non-null   bool   \n",
      " 69  SaleCondition_Partial  1460 non-null   bool   \n",
      "dtypes: bool(38), float64(29), int64(3)\n",
      "memory usage: 419.3 KB\n"
     ]
    }
   ],
   "source": [
    "df_train.info()"
   ]
  },
  {
   "cell_type": "code",
   "execution_count": 10,
   "id": "a9e81d2c",
   "metadata": {},
   "outputs": [
    {
     "name": "stdout",
     "output_type": "stream",
     "text": [
      "Training set shape: (1168, 69) (1168,)\n",
      "Testing set shape: (292, 69) (292,)\n"
     ]
    }
   ],
   "source": [
    "from sklearn.model_selection import train_test_split\n",
    "\n",
    "X_train, X_test, y_train, y_test = train_test_split(X, y, test_size=0.2, random_state=42)\n",
    "\n",
    "\n",
    "print(\"Training set shape:\", X_train.shape, y_train.shape)\n",
    "print(\"Testing set shape:\", X_test.shape, y_test.shape)\n"
   ]
  },
  {
   "cell_type": "code",
   "execution_count": 11,
   "id": "9d69fa80",
   "metadata": {
    "scrolled": true
   },
   "outputs": [
    {
     "name": "stdout",
     "output_type": "stream",
     "text": [
      "R^2 Score: 0.9071577919094471\n"
     ]
    }
   ],
   "source": [
    "\n",
    "from sklearn.model_selection import train_test_split\n",
    "from sklearn.neighbors import KNeighborsRegressor\n",
    "from sklearn.metrics import mean_squared_error, r2_score\n",
    "import numpy as np\n",
    "from sklearn.linear_model import LinearRegression\n",
    "regressor = LinearRegression()\n",
    "#regressor = KNeighborsRegressor(n_neighbors=5)\n",
    "\n",
    "regressor.fit(X_train, y_train)\n",
    "\n",
    "y_pred = regressor.predict(X_test)\n",
    "\n",
    "r2 = r2_score(y_test, y_pred)\n",
    "\n",
    "print(\"R^2 Score:\", r2)"
   ]
  },
  {
   "cell_type": "code",
   "execution_count": 12,
   "id": "4559f451",
   "metadata": {
    "scrolled": true
   },
   "outputs": [
    {
     "name": "stdout",
     "output_type": "stream",
     "text": [
      "Cross-validated accuracy scores: [0.88600902 0.8754614  0.87982089 0.89740504 0.83909893]\n"
     ]
    }
   ],
   "source": [
    "\n",
    "from sklearn.model_selection import cross_val_score\n",
    "from sklearn.neighbors import KNeighborsRegressor  \n",
    "from sklearn.metrics import mean_squared_error\n",
    "\n",
    "mse_scores = cross_val_score(regressor, X, y, cv=5, scoring='neg_mean_squared_error')\n",
    "r2_scores = cross_val_score(regressor, X, y, cv=5, scoring='r2')\n",
    "mae_scores = cross_val_score(regressor, X, y, cv=5, scoring='neg_mean_absolute_error')\n",
    "\n",
    "\n",
    "# Display the results\n",
    "# print(\"Mean Squared Error Scores:\", -mse_scores.mean())\n",
    "# print(\"R2 Scores:\", r2_scores.mean())\n",
    "# print(\"Mean Absolute Error Scores:\", -mae_scores.mean())\n",
    "\n",
    "\n",
    "#Obtain cross-validated accuracy scores\n",
    "accuracy_scores = cross_val_score(regressor, X, y, cv=5, scoring='r2')\n",
    "\n",
    "#Print the cross-validated accuracy scores\n",
    "print(\"Cross-validated accuracy scores:\", accuracy_scores)"
   ]
  },
  {
   "cell_type": "code",
   "execution_count": 13,
   "id": "d9a2c7fa",
   "metadata": {
    "scrolled": false
   },
   "outputs": [
    {
     "data": {
      "image/png": "[encoded data removed]",
      "text/plain": [
       "<Figure size 1000x600 with 1 Axes>"
      ]
     },
     "metadata": {},
     "output_type": "display_data"
    }
   ],
   "source": [
    "\n",
    "plt.figure(figsize=(10, 6))\n",
    "plt.scatter(y_test, y_pred)\n",
    "plt.title('Actual vs Predicted Values')\n",
    "plt.xlabel('Actual Values')\n",
    "plt.ylabel('Predicted Values')\n",
    "plt.show()"
   ]
  },
  {
   "cell_type": "code",
   "execution_count": 14,
   "id": "eec8a713",
   "metadata": {},
   "outputs": [
    {
     "data": {
      "image/png": "[encoded data removed]",
      "text/plain": [
       "<Figure size 640x480 with 1 Axes>"
      ]
     },
     "metadata": {},
     "output_type": "display_data"
    }
   ],
   "source": [
    "\n",
    "from sklearn.linear_model import LinearRegression\n",
    "split_ratio = 0.8\n",
    "split_index = int(split_ratio * len(X))\n",
    "\n",
    "X_train, X_val = X[:split_index], X[split_index:]\n",
    "y_train, y_val = y[:split_index], y[split_index:]\n",
    "\n",
    "model = LinearRegression()\n",
    "\n",
    "mse_values_train = []\n",
    "mse_values_val = []\n",
    "\n",
    "for i in range(1, split_index + 1):\n",
    "    model.fit(X_train[:i], y_train[:i])\n",
    "\n",
    "    y_train_preds = model.predict(X_train[:i])\n",
    "    mse_train = mean_squared_error(y_train[:i], y_train_preds)\n",
    "    mse_values_train.append(mse_train)\n",
    "\n",
    "    y_val_preds = model.predict(X_val)\n",
    "    mse_val = mean_squared_error(y_val, y_val_preds)\n",
    "    mse_values_val.append(mse_val)\n",
    "\n",
    "plt.plot(mse_values_train, label='Training Set')\n",
    "plt.plot(mse_values_val, label='Validation Set')\n",
    "plt.title('Loss Curve')\n",
    "plt.xlabel('Subset Size')\n",
    "plt.ylabel('Mean Squared Error Loss')\n",
    "plt.legend()\n",
    "plt.show()"
   ]
  }
 ],
 "metadata": {
  "kernelspec": {
   "display_name": "Python 3 (ipykernel)",
   "language": "python",
   "name": "python3"
  },
  "language_info": {
   "codemirror_mode": {
    "name": "ipython",
    "version": 3
   },
   "file_extension": ".py",
   "mimetype": "text/x-python",
   "name": "python",
   "nbconvert_exporter": "python",
   "pygments_lexer": "ipython3",
   "version": "3.11.5"
  }
 },
 "nbformat": 4,
 "nbformat_minor": 5
}
